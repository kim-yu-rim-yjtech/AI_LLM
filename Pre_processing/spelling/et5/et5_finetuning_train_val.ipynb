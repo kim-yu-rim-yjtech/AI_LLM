version https://git-lfs.github.com/spec/v1
oid sha256:79db7be4aa52af9c196da3bca1d11c13b10eb6c7043d884e0b46ea75f371d881
size 33812
