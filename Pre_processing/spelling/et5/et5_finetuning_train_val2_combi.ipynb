{
 "cells": [
  {
   "cell_type": "markdown",
   "metadata": {},
   "source": [
    "## 데이터 불러오고 나누기"
   ]
  },
  {
   "cell_type": "code",
   "execution_count": 1,
   "metadata": {},
   "outputs": [
    {
     "name": "stdout",
     "output_type": "stream",
     "text": [
      "<class 'pandas.core.frame.DataFrame'>\n",
      "RangeIndex: 58162 entries, 0 to 58161\n",
      "Data columns (total 2 columns):\n",
      " #   Column        Non-Null Count  Dtype \n",
      "---  ------        --------------  ----- \n",
      " 0   err_sentence  58162 non-null  object\n",
      " 1   cor_sentence  58162 non-null  object\n",
      "dtypes: object(2)\n",
      "memory usage: 908.9+ KB\n",
      "None\n",
      "58162\n",
      "<class 'pandas.core.frame.DataFrame'>\n",
      "RangeIndex: 7268 entries, 0 to 7267\n",
      "Data columns (total 2 columns):\n",
      " #   Column        Non-Null Count  Dtype \n",
      "---  ------        --------------  ----- \n",
      " 0   err_sentence  7268 non-null   object\n",
      " 1   cor_sentence  7268 non-null   object\n",
      "dtypes: object(2)\n",
      "memory usage: 113.7+ KB\n",
      "None\n",
      "7268\n"
     ]
    }
   ],
   "source": [
    "import json\n",
    "import pandas as pd\n",
    "from datasets import Dataset\n",
    "\n",
    "def load_data(file_path):\n",
    "    \"\"\"\n",
    "    JSON 데이터를 불러와 Pandas DataFrame으로 변환\n",
    "    \"\"\"\n",
    "    with open(file_path, 'r', encoding='utf-8') as f:\n",
    "        json_data = json.load(f)\n",
    "        \n",
    "    data = []\n",
    "    for item in json_data['data']:\n",
    "        if 'annotation' in item:\n",
    "            annotation = item['annotation']\n",
    "            \n",
    "            if 'err_sentence' in annotation and 'cor_sentence' in annotation:\n",
    "                data.append({\n",
    "                    'err_sentence': annotation['err_sentence'],\n",
    "                    'cor_sentence': annotation['cor_sentence']\n",
    "                })\n",
    "                \n",
    "    df = pd.DataFrame(data)\n",
    "    print(df.info())\n",
    "    # None 값을 빈 문자열로 대체\n",
    "    df = df.fillna('')\n",
    "    return df\n",
    "\n",
    "# JSON 파일 경로\n",
    "file_path_train = \"/home/yjtech2/Desktop/yurim/LLM/Data/spelling/train/combined_data_train.json\"\n",
    "train_df = load_data(file_path_train)\n",
    "train_data_dict = train_df.to_dict(orient='list')\n",
    "train_dataset = Dataset.from_dict(train_data_dict)\n",
    "print(len(train_dataset))\n",
    "\n",
    "\n",
    "file_path_val = \"/home/yjtech2/Desktop/yurim/LLM/Data/spelling/validation/combined_data_val.json\"\n",
    "val_df = load_data(file_path_val)\n",
    "val_data_dict = val_df.to_dict(orient='list')\n",
    "val_dataset = Dataset.from_dict(val_data_dict)\n",
    "print(len(val_dataset))"
   ]
  },
  {
   "cell_type": "markdown",
   "metadata": {},
   "source": [
    "## 모델 학습"
   ]
  },
  {
   "cell_type": "code",
   "execution_count": 2,
   "metadata": {},
   "outputs": [
    {
     "name": "stderr",
     "output_type": "stream",
     "text": [
      "2024-12-05 09:44:35.751892: I tensorflow/core/util/port.cc:110] oneDNN custom operations are on. You may see slightly different numerical results due to floating-point round-off errors from different computation orders. To turn them off, set the environment variable `TF_ENABLE_ONEDNN_OPTS=0`.\n",
      "2024-12-05 09:44:35.775839: I tensorflow/core/platform/cpu_feature_guard.cc:182] This TensorFlow binary is optimized to use available CPU instructions in performance-critical operations.\n",
      "To enable the following instructions: AVX2 AVX512F AVX512_VNNI AVX512_BF16 FMA, in other operations, rebuild TensorFlow with the appropriate compiler flags.\n",
      "2024-12-05 09:44:36.117518: W tensorflow/compiler/tf2tensorrt/utils/py_utils.cc:38] TF-TRT Warning: Could not find TensorRT\n"
     ]
    }
   ],
   "source": [
    "import os\n",
    "import torch\n",
    "from tqdm import tqdm\n",
    "from typing import Dict\n",
    "import time\n",
    "from datetime import datetime\n",
    "import numpy as np\n",
    "from transformers import (\n",
    "    T5Tokenizer,\n",
    "    T5ForConditionalGeneration,\n",
    "    AdamW,\n",
    "    DataCollatorForSeq2Seq,\n",
    ")\n",
    "import matplotlib.pyplot as plt\n",
    "\n",
    "class CustomT5Trainer:\n",
    "    def __init__(self, model_name: str, **kwargs):\n",
    "        self.device = \"cuda\" if torch.cuda.is_available() else \"cpu\"\n",
    "        print(f\"Using device: {self.device}\")\n",
    "        if self.device == \"cuda\":\n",
    "            print(f\"GPU Model: {torch.cuda.get_device_name(0)}\")\n",
    "            print(f\"Available GPU memory: {torch.cuda.get_device_properties(0).total_memory / 1024**3:.2f} GB\")\n",
    "        \n",
    "        self.tokenizer = T5Tokenizer.from_pretrained(model_name)\n",
    "        self.model = T5ForConditionalGeneration.from_pretrained(model_name).to(self.device)\n",
    "        self.optimizer = AdamW(self.model.parameters(), lr=kwargs.get(\"learning_rate\", 2e-5))\n",
    "        self.max_length = kwargs.get(\"max_length\", 128)\n",
    "        self.training_args = kwargs\n",
    "        self.save_dir = kwargs.get(\"save_dir\", \"/home/yjtech2/Desktop/yurim/LLM/Pre_processing/spelling/et5/best_model1_train_val2_combi\")\n",
    "        \n",
    "        # 저장 경로 설정\n",
    "        self.best_model_path = os.path.join(self.save_dir, \"pytorch_model.bin\")\n",
    "        self.tokenizer_path = self.save_dir\n",
    "        \n",
    "        # 학습 히스토리 저장을 위한 변수\n",
    "        self.history = {\n",
    "            'train_loss': [],\n",
    "            'val_loss': [],\n",
    "            'epoch_times': [],\n",
    "            'best_epoch': 0\n",
    "        }\n",
    "\n",
    "        # 디렉터리 생성\n",
    "        os.makedirs(self.save_dir, exist_ok=True)\n",
    "\n",
    "    def save_model_and_tokenizer(self, epoch=None, is_best=False):\n",
    "        \"\"\"최고 모델만 저장 및 이전 모델 삭제\"\"\"\n",
    "        if is_best:\n",
    "            # 이전 최고 모델 디렉터리 삭제\n",
    "            if self.best_model_path and os.path.exists(self.best_model_path):\n",
    "                print(f\"Deleting previous best model at {self.best_model_path}\")\n",
    "                os.system(f\"rm -rf {self.best_model_path}\")\n",
    "            \n",
    "            # 새로운 최고 모델 저장\n",
    "            save_path = os.path.join(self.save_dir, f\"best_model_epoch_{epoch}\")\n",
    "            os.makedirs(save_path, exist_ok=True)\n",
    "            self.model.save_pretrained(save_path)\n",
    "            self.tokenizer.save_pretrained(save_path)\n",
    "            torch.save(self.history, os.path.join(save_path, 'training_history.pt'))\n",
    "            \n",
    "            print(f\"New best model saved at {save_path}\")\n",
    "            self.best_model_path = save_path  # 최고 모델 경로 업데이트\n",
    "\n",
    "    def calculate_metrics(self, predictions, labels):\n",
    "        \"\"\"기본적인 메트릭 계산\"\"\"\n",
    "        predictions = torch.argmax(predictions, dim=-1)\n",
    "        correct = (predictions == labels).masked_fill(labels == -100, 0)\n",
    "        accuracy = correct.sum().item() / (labels != -100).sum().item()\n",
    "        return accuracy\n",
    "\n",
    "    def train(self, train_dataset, valid_dataset=None):\n",
    "        start_time = time.time()\n",
    "        print(f\"\\nStarting training at: {datetime.now().strftime('%Y-%m-%d %H:%M:%S')}\")\n",
    "        print(f\"Model name: {self.training_args.get('model_name', 'not specified')}\")\n",
    "        print(f\"Training parameters:\")\n",
    "        print(f\"- Batch size: {self.training_args['batch_size']}\")\n",
    "        print(f\"- Learning rate: {self.training_args.get('learning_rate', '2e-5')}\")\n",
    "        print(f\"- Max length: {self.max_length}\")\n",
    "        print(f\"- Number of epochs: {self.training_args['num_epochs']}\")\n",
    "        print(f\"- Training samples: {len(train_dataset)}\")\n",
    "        if valid_dataset:\n",
    "            print(f\"- Validation samples: {len(valid_dataset)}\")\n",
    "        print(\"\\n\" + \"=\"*50 + \"\\n\")\n",
    "\n",
    "        # 데이터 전처리\n",
    "        print(\"Preprocessing training data...\")\n",
    "        train_dataset = train_dataset.map(\n",
    "            self.preprocess_data,\n",
    "            batched=True,\n",
    "            remove_columns=train_dataset.column_names,\n",
    "            desc=\"Processing training data\"\n",
    "        )\n",
    "\n",
    "        if valid_dataset is not None:\n",
    "            print(\"Preprocessing validation data...\")\n",
    "            valid_dataset = valid_dataset.map(\n",
    "                self.preprocess_data,\n",
    "                batched=True,\n",
    "                remove_columns=valid_dataset.column_names,\n",
    "                desc=\"Processing validation data\"\n",
    "            )\n",
    "\n",
    "        # DataCollator 설정\n",
    "        data_collator = DataCollatorForSeq2Seq(\n",
    "            tokenizer=self.tokenizer,\n",
    "            model=self.model,\n",
    "            padding=\"longest\",\n",
    "            return_tensors=\"pt\"\n",
    "        )\n",
    "\n",
    "        # DataLoader 준비\n",
    "        train_dataloader = torch.utils.data.DataLoader(\n",
    "            train_dataset,\n",
    "            batch_size=self.training_args[\"batch_size\"],\n",
    "            shuffle=True,\n",
    "            collate_fn=data_collator\n",
    "        )\n",
    "\n",
    "        if valid_dataset is not None:\n",
    "            valid_dataloader = torch.utils.data.DataLoader(\n",
    "                valid_dataset,\n",
    "                batch_size=self.training_args[\"batch_size\"],\n",
    "                shuffle=False,\n",
    "                collate_fn=data_collator\n",
    "            )\n",
    "\n",
    "        best_val_loss = float('inf')\n",
    "        early_stopping_counter = 0\n",
    "        early_stopping_patience = self.training_args.get('patience', 3)\n",
    "\n",
    "        for epoch in range(self.training_args[\"num_epochs\"]):\n",
    "            epoch_start_time = time.time()\n",
    "            \n",
    "            # Training\n",
    "            self.model.train()\n",
    "            epoch_loss = 0\n",
    "            epoch_accuracy = 0\n",
    "            train_steps = 0\n",
    "            \n",
    "            progress_bar = tqdm(train_dataloader, desc=f\"Training Epoch {epoch + 1}\")\n",
    "            batch_losses = []\n",
    "            batch_accuracies = []\n",
    "            \n",
    "            for batch_idx, batch in enumerate(progress_bar):\n",
    "                input_ids = batch[\"input_ids\"].to(self.device)\n",
    "                attention_mask = batch[\"attention_mask\"].to(self.device)\n",
    "                labels = batch[\"labels\"].to(self.device)\n",
    "\n",
    "                outputs = self.model(\n",
    "                    input_ids=input_ids,\n",
    "                    attention_mask=attention_mask,\n",
    "                    labels=labels,\n",
    "                )\n",
    "                \n",
    "                loss = outputs.loss\n",
    "                accuracy = self.calculate_metrics(outputs.logits, labels)\n",
    "                \n",
    "                loss.backward()\n",
    "                self.optimizer.step()\n",
    "                self.optimizer.zero_grad()\n",
    "\n",
    "                batch_losses.append(loss.item())\n",
    "                batch_accuracies.append(accuracy)\n",
    "                \n",
    "                # Update progress bar\n",
    "                current_loss = np.mean(batch_losses[-100:])  # Moving average of last 100 batches\n",
    "                current_accuracy = np.mean(batch_accuracies[-100:])\n",
    "                progress_bar.set_postfix({\n",
    "                    'loss': f'{current_loss:.4f}',\n",
    "                    'accuracy': f'{current_accuracy:.4f}',\n",
    "                    'batch': f'{batch_idx + 1}/{len(train_dataloader)}'\n",
    "                })\n",
    "\n",
    "            avg_train_loss = np.mean(batch_losses)\n",
    "            avg_train_accuracy = np.mean(batch_accuracies)\n",
    "            \n",
    "            # Validation\n",
    "            if valid_dataset is not None:\n",
    "                self.model.eval()\n",
    "                val_losses = []\n",
    "                val_accuracies = []\n",
    "\n",
    "                print(\"\\nRunning validation...\")\n",
    "                with torch.no_grad():\n",
    "                    for batch in tqdm(valid_dataloader, desc=\"Validating\"):\n",
    "                        input_ids = batch[\"input_ids\"].to(self.device)\n",
    "                        attention_mask = batch[\"attention_mask\"].to(self.device)\n",
    "                        labels = batch[\"labels\"].to(self.device)\n",
    "\n",
    "                        outputs = self.model(\n",
    "                            input_ids=input_ids,\n",
    "                            attention_mask=attention_mask,\n",
    "                            labels=labels,\n",
    "                        )\n",
    "                        \n",
    "                        loss = outputs.loss\n",
    "                        accuracy = self.calculate_metrics(outputs.logits, labels)\n",
    "                        \n",
    "                        val_losses.append(loss.item())\n",
    "                        val_accuracies.append(accuracy)\n",
    "\n",
    "                avg_val_loss = np.mean(val_losses)\n",
    "                avg_val_accuracy = np.mean(val_accuracies)\n",
    "\n",
    "                if avg_val_loss < best_val_loss:\n",
    "                    best_val_loss = avg_val_loss\n",
    "                    early_stopping_counter = 0\n",
    "                    self.history['best_epoch'] = epoch + 1\n",
    "                    print(f\"\\nNew best validation loss: {best_val_loss:.4f}\")\n",
    "                    self.save_model_and_tokenizer(epoch + 1, is_best=True)\n",
    "                else:\n",
    "                    early_stopping_counter += 1\n",
    "\n",
    "            # Calculate epoch time\n",
    "            epoch_time = time.time() - epoch_start_time\n",
    "            self.history['epoch_times'].append(epoch_time)\n",
    "\n",
    "            # Save metrics\n",
    "            self.history['train_loss'].append(avg_train_loss)\n",
    "            if valid_dataset is not None:\n",
    "                self.history['val_loss'].append(avg_val_loss)\n",
    "\n",
    "            # Print epoch summary\n",
    "            print(f\"\\nEpoch {epoch + 1} Summary:\")\n",
    "            print(f\"Time taken: {epoch_time:.2f} seconds\")\n",
    "            print(f\"Average training loss: {avg_train_loss:.4f}\")\n",
    "            print(f\"Training accuracy: {avg_train_accuracy:.4f}\")\n",
    "            if valid_dataset is not None:\n",
    "                print(f\"Validation loss: {avg_val_loss:.4f}\")\n",
    "                print(f\"Validation accuracy: {avg_val_accuracy:.4f}\")\n",
    "                print(f\"Best validation loss so far: {best_val_loss:.4f}\")\n",
    "                print(f\"Early stopping counter: {early_stopping_counter}/{early_stopping_patience}\")\n",
    "\n",
    "            # Save checkpoint\n",
    "            if (epoch + 1) % self.training_args.get('save_every', 5) == 0:\n",
    "                self.save_model_and_tokenizer(epoch + 1)\n",
    "\n",
    "            # Early stopping\n",
    "            if early_stopping_counter >= early_stopping_patience:\n",
    "                print(f\"\\nEarly stopping triggered after {epoch + 1} epochs\")\n",
    "                break\n",
    "\n",
    "            print(\"\\n\" + \"=\"*50 + \"\\n\")\n",
    "            \n",
    "        print(f\"Best model saved at: {self.best_model_path}\")\n",
    "        \n",
    "        epochs = range(1, len(self.history[\"train_loss\"]) + 1)\n",
    "\n",
    "        # Loss 그래프\n",
    "        plt.figure(figsize=(10, 5))\n",
    "        plt.plot(epochs, self.history[\"train_loss\"], 'r', label=\"Training Loss\")\n",
    "        if valid_dataset:\n",
    "            plt.plot(epochs, self.history[\"val_loss\"], 'b', label=\"Validation Loss\")\n",
    "        plt.xlabel(\"Epochs\")\n",
    "        plt.ylabel(\"Loss\")\n",
    "        plt.title(\"Training and Validation Loss\")\n",
    "        plt.legend()\n",
    "        plt.grid()\n",
    "        plt.show()\n",
    "\n",
    "        # Accuracy 그래프 (검증 데이터가 있는 경우)\n",
    "        if valid_dataset and \"train_accuracy\" in self.history and \"val_accuracy\" in self.history:\n",
    "            plt.figure(figsize=(10, 5))\n",
    "            plt.plot(epochs, self.history.get(\"train_accuracy\", []), 'r', label=\"Training Accuracy\")\n",
    "            plt.plot(epochs, self.history.get(\"val_accuracy\", []), 'b', label=\"Validation Accuracy\")\n",
    "            plt.xlabel(\"Epochs\")\n",
    "            plt.ylabel(\"Accuracy\")\n",
    "            plt.title(\"Training and Validation Accuracy\")\n",
    "            plt.legend()\n",
    "            plt.grid()\n",
    "            plt.show()\n",
    "        \n",
    "        \n",
    "        # Training summary\n",
    "        total_time = time.time() - start_time\n",
    "        print(\"\\nTraining Summary:\")\n",
    "        print(f\"Total training time: {total_time:.2f} seconds\")\n",
    "        print(f\"Best epoch: {self.history['best_epoch']}\")\n",
    "        print(f\"Best validation loss: {best_val_loss:.4f}\")\n",
    "        print(f\"Average epoch time: {np.mean(self.history['epoch_times']):.2f} seconds\")\n",
    "        \n",
    "        if valid_dataset is None:\n",
    "            self.save_model_and_tokenizer()\n",
    "            \n",
    "        \n",
    "\n",
    "    def preprocess_data(self, examples: Dict) -> Dict:\n",
    "        \"\"\"데이터 전처리 함수\"\"\"\n",
    "        inputs = [f\"맞춤법 교정: {self._normalize_text(text)}\" for text in examples[\"err_sentence\"]]\n",
    "        model_inputs = self.tokenizer(\n",
    "            inputs,\n",
    "            max_length=self.max_length,\n",
    "            padding=\"longest\",\n",
    "            truncation=True,\n",
    "            return_tensors=\"pt\",\n",
    "        ).to(self.device)\n",
    "\n",
    "        with self.tokenizer.as_target_tokenizer():\n",
    "            labels = self.tokenizer(\n",
    "                examples[\"cor_sentence\"],\n",
    "                max_length=self.max_length,\n",
    "                padding=\"longest\",\n",
    "                truncation=True,\n",
    "                return_tensors=\"pt\",\n",
    "            ).to(self.device)\n",
    "        model_inputs[\"labels\"] = labels[\"input_ids\"]\n",
    "        return model_inputs\n",
    "\n",
    "    def predict(self, text: str) -> str:\n",
    "        \"\"\"모델 추론 - 긴 텍스트를 청크로 나누어 처리\"\"\"\n",
    "        if not isinstance(text, str):\n",
    "            return \"\"\n",
    "\n",
    "        try:\n",
    "            # 최대 토큰 길이 설정\n",
    "            max_token_length = self.max_length - 10  # 모델의 max_length에서 여유 공간 확보\n",
    "\n",
    "            corrected_sentences = []\n",
    "            \n",
    "            # 청크로 나누기\n",
    "            for start_idx in range(0, len(text), max_token_length):\n",
    "                chunk = text[start_idx:start_idx + max_token_length]\n",
    "                \n",
    "                # 각 청크에 대해 맞춤법 교정\n",
    "                inputs = self.tokenizer(\n",
    "                    f\"맞춤법 교정: {self._normalize_text(chunk)}\",\n",
    "                    return_tensors=\"pt\",\n",
    "                    max_length=self.max_length,\n",
    "                    truncation=True,\n",
    "                ).to(self.device)\n",
    "\n",
    "                outputs = self.model.generate(\n",
    "                    inputs[\"input_ids\"], max_length=self.max_length, num_beams=5\n",
    "                )\n",
    "                corrected_chunk = self.tokenizer.decode(outputs[0], skip_special_tokens=True)\n",
    "                corrected_sentences.append(corrected_chunk)\n",
    "            \n",
    "            # 모든 청크를 다시 합치기\n",
    "            final_text = \" \".join(corrected_sentences)\n",
    "            return final_text.strip()\n",
    "        \n",
    "        except Exception as e:\n",
    "            print(f\"Error processing text: {text}\")\n",
    "            print(f\"Error message: {str(e)}\")\n",
    "            return text  # 에러 발생시 원본 텍스트 반환\n",
    "\n",
    "    def _normalize_text(self, text: str) -> str:\n",
    "        return text.strip()"
   ]
  },
  {
   "cell_type": "code",
   "execution_count": 3,
   "metadata": {},
   "outputs": [
    {
     "name": "stdout",
     "output_type": "stream",
     "text": [
      "Using device: cuda\n",
      "GPU Model: NVIDIA GeForce RTX 4080\n",
      "Available GPU memory: 15.59 GB\n"
     ]
    },
    {
     "name": "stderr",
     "output_type": "stream",
     "text": [
      "You are using the default legacy behaviour of the <class 'transformers.models.t5.tokenization_t5.T5Tokenizer'>. This is expected, and simply means that the `legacy` (previous) behavior will be used so nothing changes for you. If you want to use the new behaviour, set `legacy=False`. This should only be set if you understand what it means, and thoroughly read the reason why this was added as explained in https://github.com/huggingface/transformers/pull/24565\n",
      "/home/yjtech2/Desktop/yurim/anaconda3/envs/venv-llm/lib/python3.8/site-packages/transformers/optimization.py:591: FutureWarning: This implementation of AdamW is deprecated and will be removed in a future version. Use the PyTorch implementation torch.optim.AdamW instead, or set `no_deprecation_warning=True` to disable this warning\n",
      "  warnings.warn(\n"
     ]
    },
    {
     "name": "stdout",
     "output_type": "stream",
     "text": [
      "\n",
      "Starting training at: 2024-12-05 09:44:39\n",
      "Model name: not specified\n",
      "Training parameters:\n",
      "- Batch size: 16\n",
      "- Learning rate: 2e-05\n",
      "- Max length: 512\n",
      "- Number of epochs: 10\n",
      "- Training samples: 58162\n",
      "- Validation samples: 7268\n",
      "\n",
      "==================================================\n",
      "\n",
      "Preprocessing training data...\n"
     ]
    },
    {
     "data": {
      "application/vnd.jupyter.widget-view+json": {
       "model_id": "197874296871402a9ec660ba7b203b79",
       "version_major": 2,
       "version_minor": 0
      },
      "text/plain": [
       "Processing training data:   0%|          | 0/58162 [00:00<?, ? examples/s]"
      ]
     },
     "metadata": {},
     "output_type": "display_data"
    },
    {
     "name": "stderr",
     "output_type": "stream",
     "text": [
      "/home/yjtech2/Desktop/yurim/anaconda3/envs/venv-llm/lib/python3.8/site-packages/transformers/tokenization_utils_base.py:4114: UserWarning: `as_target_tokenizer` is deprecated and will be removed in v5 of Transformers. You can tokenize your labels by using the argument `text_target` of the regular `__call__` method (either in the same call as your input texts if you use the same keyword arguments, or in a separate call.\n",
      "  warnings.warn(\n"
     ]
    },
    {
     "name": "stdout",
     "output_type": "stream",
     "text": [
      "Preprocessing validation data...\n"
     ]
    },
    {
     "data": {
      "application/vnd.jupyter.widget-view+json": {
       "model_id": "43aeb02d3df5481c9b267c348eb582c7",
       "version_major": 2,
       "version_minor": 0
      },
      "text/plain": [
       "Processing validation data:   0%|          | 0/7268 [00:00<?, ? examples/s]"
      ]
     },
     "metadata": {},
     "output_type": "display_data"
    },
    {
     "name": "stderr",
     "output_type": "stream",
     "text": [
      "Training Epoch 1:   0%|          | 0/3636 [00:00<?, ?it/s]Passing a tuple of `past_key_values` is deprecated and will be removed in Transformers v4.48.0. You should pass an instance of `EncoderDecoderCache` instead, e.g. `past_key_values=EncoderDecoderCache.from_legacy_cache(past_key_values)`.\n",
      "Training Epoch 1: 100%|██████████| 3636/3636 [06:08<00:00,  9.86it/s, loss=0.0484, accuracy=0.9887, batch=3636/3636]\n"
     ]
    },
    {
     "name": "stdout",
     "output_type": "stream",
     "text": [
      "\n",
      "Running validation...\n"
     ]
    },
    {
     "name": "stderr",
     "output_type": "stream",
     "text": [
      "Validating: 100%|██████████| 455/455 [00:10<00:00, 44.93it/s]\n"
     ]
    },
    {
     "name": "stdout",
     "output_type": "stream",
     "text": [
      "\n",
      "New best validation loss: 0.0843\n",
      "New best model saved at /home/yjtech2/Desktop/yurim/LLM/Pre_processing/spelling/et5/best_model1_train_val2_combi/best_model_epoch_1\n",
      "\n",
      "Epoch 1 Summary:\n",
      "Time taken: 381.15 seconds\n",
      "Average training loss: 0.0752\n",
      "Training accuracy: 0.9840\n",
      "Validation loss: 0.0843\n",
      "Validation accuracy: 0.9839\n",
      "Best validation loss so far: 0.0843\n",
      "Early stopping counter: 0/3\n",
      "\n",
      "==================================================\n",
      "\n"
     ]
    },
    {
     "name": "stderr",
     "output_type": "stream",
     "text": [
      "Training Epoch 2: 100%|██████████| 3636/3636 [06:08<00:00,  9.85it/s, loss=0.0292, accuracy=0.9928, batch=3636/3636]\n"
     ]
    },
    {
     "name": "stdout",
     "output_type": "stream",
     "text": [
      "\n",
      "Running validation...\n"
     ]
    },
    {
     "name": "stderr",
     "output_type": "stream",
     "text": [
      "Validating: 100%|██████████| 455/455 [00:10<00:00, 44.99it/s]\n"
     ]
    },
    {
     "name": "stdout",
     "output_type": "stream",
     "text": [
      "\n",
      "New best validation loss: 0.0837\n",
      "Deleting previous best model at /home/yjtech2/Desktop/yurim/LLM/Pre_processing/spelling/et5/best_model1_train_val2_combi/best_model_epoch_1\n",
      "New best model saved at /home/yjtech2/Desktop/yurim/LLM/Pre_processing/spelling/et5/best_model1_train_val2_combi/best_model_epoch_2\n",
      "\n",
      "Epoch 2 Summary:\n",
      "Time taken: 381.31 seconds\n",
      "Average training loss: 0.0303\n",
      "Training accuracy: 0.9925\n",
      "Validation loss: 0.0837\n",
      "Validation accuracy: 0.9845\n",
      "Best validation loss so far: 0.0837\n",
      "Early stopping counter: 0/3\n",
      "\n",
      "==================================================\n",
      "\n"
     ]
    },
    {
     "name": "stderr",
     "output_type": "stream",
     "text": [
      "Training Epoch 3: 100%|██████████| 3636/3636 [06:09<00:00,  9.84it/s, loss=0.0157, accuracy=0.9961, batch=3636/3636]\n"
     ]
    },
    {
     "name": "stdout",
     "output_type": "stream",
     "text": [
      "\n",
      "Running validation...\n"
     ]
    },
    {
     "name": "stderr",
     "output_type": "stream",
     "text": [
      "Validating: 100%|██████████| 455/455 [00:10<00:00, 44.96it/s]\n"
     ]
    },
    {
     "name": "stdout",
     "output_type": "stream",
     "text": [
      "\n",
      "Epoch 3 Summary:\n",
      "Time taken: 379.63 seconds\n",
      "Average training loss: 0.0162\n",
      "Training accuracy: 0.9957\n",
      "Validation loss: 0.0889\n",
      "Validation accuracy: 0.9846\n",
      "Best validation loss so far: 0.0837\n",
      "Early stopping counter: 1/3\n",
      "\n",
      "==================================================\n",
      "\n"
     ]
    },
    {
     "name": "stderr",
     "output_type": "stream",
     "text": [
      "Training Epoch 4: 100%|██████████| 3636/3636 [06:09<00:00,  9.85it/s, loss=0.0108, accuracy=0.9969, batch=3636/3636]\n"
     ]
    },
    {
     "name": "stdout",
     "output_type": "stream",
     "text": [
      "\n",
      "Running validation...\n"
     ]
    },
    {
     "name": "stderr",
     "output_type": "stream",
     "text": [
      "Validating: 100%|██████████| 455/455 [00:10<00:00, 44.90it/s]\n"
     ]
    },
    {
     "name": "stdout",
     "output_type": "stream",
     "text": [
      "\n",
      "Epoch 4 Summary:\n",
      "Time taken: 379.26 seconds\n",
      "Average training loss: 0.0097\n",
      "Training accuracy: 0.9973\n",
      "Validation loss: 0.0946\n",
      "Validation accuracy: 0.9850\n",
      "Best validation loss so far: 0.0837\n",
      "Early stopping counter: 2/3\n",
      "\n",
      "==================================================\n",
      "\n"
     ]
    },
    {
     "name": "stderr",
     "output_type": "stream",
     "text": [
      "Training Epoch 5: 100%|██████████| 3636/3636 [06:09<00:00,  9.85it/s, loss=0.0062, accuracy=0.9983, batch=3636/3636]\n"
     ]
    },
    {
     "name": "stdout",
     "output_type": "stream",
     "text": [
      "\n",
      "Running validation...\n"
     ]
    },
    {
     "name": "stderr",
     "output_type": "stream",
     "text": [
      "Validating: 100%|██████████| 455/455 [00:10<00:00, 44.92it/s]\n"
     ]
    },
    {
     "name": "stdout",
     "output_type": "stream",
     "text": [
      "\n",
      "Epoch 5 Summary:\n",
      "Time taken: 379.32 seconds\n",
      "Average training loss: 0.0060\n",
      "Training accuracy: 0.9984\n",
      "Validation loss: 0.0990\n",
      "Validation accuracy: 0.9849\n",
      "Best validation loss so far: 0.0837\n",
      "Early stopping counter: 3/3\n",
      "\n",
      "Early stopping triggered after 5 epochs\n",
      "Best model saved at: /home/yjtech2/Desktop/yurim/LLM/Pre_processing/spelling/et5/best_model1_train_val2_combi/best_model_epoch_2\n"
     ]
    },
    {
     "data": {
      "image/png": "[encoded data removed]",
      "text/plain": [
       "<Figure size 1000x500 with 1 Axes>"
      ]
     },
     "metadata": {},
     "output_type": "display_data"
    },
    {
     "name": "stdout",
     "output_type": "stream",
     "text": [
      "\n",
      "Training Summary:\n",
      "Total training time: 1910.11 seconds\n",
      "Best epoch: 2\n",
      "Best validation loss: 0.0837\n",
      "Average epoch time: 380.13 seconds\n"
     ]
    }
   ],
   "source": [
    "trainer = CustomT5Trainer(\n",
    "    model_name=\"j5ng/et5-typos-corrector\",\n",
    "    max_length=512,\n",
    "    learning_rate=2e-5,\n",
    "    batch_size=16,\n",
    "    num_epochs=10,\n",
    "    gradient_accumulation_steps=4,\n",
    "    patience=3  # early stopping patience\n",
    ")\n",
    "\n",
    "if __name__ == \"__main__\":\n",
    "    torch.cuda.empty_cache()  # GPU 메모리 초기화\n",
    "    trainer.train(train_dataset, val_dataset)\n"
   ]
  },
  {
   "cell_type": "markdown",
   "metadata": {},
   "source": [
    "## 테스트"
   ]
  },
  {
   "cell_type": "code",
   "execution_count": 4,
   "metadata": {},
   "outputs": [],
   "source": [
    "# from transformers import T5ForConditionalGeneration, T5Tokenizer\n",
    "\n",
    "# model = T5ForConditionalGeneration.from_pretrained('/home/yjtech2/Desktop/yurim/LLM/Pre_processing/spelling/et5/best_model1_train_val2_combi/best_model_epoch_2')\n",
    "# tokenizer = T5Tokenizer.from_pretrained(\"/home/yjtech2/Desktop/yurim/LLM/Pre_processing/spelling/et5/best_model1_train_val2_combi/best_model_epoch_2\")\n",
    "# print(\"Model and tokenizer loaded successfully.\")"
   ]
  },
  {
   "cell_type": "code",
   "execution_count": 14,
   "metadata": {},
   "outputs": [
    {
     "name": "stdout",
     "output_type": "stream",
     "text": [
      "원래 문장:  안녕하세요. 포항시 오천읍에 거주하는 이강일입니다. 저는 지난 11월 13일 이후로 집에서 나오는 수돗물에서 고약한 냄새가 나기 시작했습니다. 처음에는 아파트 물탱크의 문제가 있는 줄 알고 대수롭지 않게 여겼는데 냄새가 계속 나서 걱정이 돼서 신고합니다. 현재 수돗물에서 흙냄새와 곰팡이 냄새가 나고 그래서 설거지나 세수는 물론 물을 마실 수가 없습니다. 생수로 대체해서 사용하고 있는데 이 문제로 매우 불편을 겪고 있습니다. 포항시 수돗물 원수의 40%를 공급하는 경주 안개 때문에 녹조 현상이 발생했다고 들었고 남조류에서 발생한 지오스민이 냄새를 유발한다고 합니다. 이 문제에 대한 빠른 대응을 부탁드립니다. 감사합니다.\n",
      "교정 후 문장:  안녕하세요? 포항 시에 거주하는 이강일입니다. 저는 지난 11월 13일 이후로 집에서 나오는 수돗물에서 고약한 냄새가 나기 시작했습니다. 처음에는 아파트 물탱크의 문제가 있는 줄 알고 대수롭지 않게 여겼는데 냄새가 계속 나서 걱정이 돼서 신고합니다. 현재 수돗물에서 흙 냄새와 곰팡이 냄새가 나고 그래서 설거지나 세수는 물론 물을 마실 수가 없습니다. 생수로 대체해서 사용하고 있는데 이 문제로 매우 불편을 겪고 있습니다. 포항 시 수돗물 원수의 40%를 공급하는 경주 안개 때문에 녹조 현상이 발생했다고 들었고 남조류에서 발생한 지오스민이 냄새를 유발한다고 합니다. 이 문제에 대한 빠른 대응을 부탁드립니다. 감사합니다.\n"
     ]
    }
   ],
   "source": [
    "from transformers import T5Tokenizer, T5ForConditionalGeneration\n",
    "\n",
    "# 저장된 모델 경로\n",
    "saved_model_path = \"/home/yjtech2/Desktop/yurim/LLM/Pre_processing/spelling/et5/best_model1_train_val2_combi/best_model_epoch_2\"\n",
    "\n",
    "# 모델과 토크나이저 불러오기\n",
    "tokenizer = T5Tokenizer.from_pretrained(saved_model_path, local_files_only=True)\n",
    "model = T5ForConditionalGeneration.from_pretrained(saved_model_path, local_files_only=True).to('cpu')\n",
    "\n",
    "def apply_spelling_correction(text):\n",
    "    \"\"\"문장 끝 점을 기준으로 텍스트를 나누어 각 문장을 교정한 후 다시 합치기\"\"\"\n",
    "    if not isinstance(text, str):\n",
    "        return \"\"\n",
    "\n",
    "    try:\n",
    "        # 문장 단위로 분리 (여기서 문장 끝 점(`.`)을 기준으로 나눕니다)\n",
    "        sentences = text.split('.') \n",
    "\n",
    "        corrected_sentences = []\n",
    "        \n",
    "        for sentence in sentences:\n",
    "            sentence = sentence.strip()  # 불필요한 공백 제거\n",
    "            \n",
    "            # 각 문장에 대해 맞춤법 교정\n",
    "            if len(sentence) == 0:\n",
    "                continue\n",
    "            \n",
    "            inputs = tokenizer(\n",
    "                f\"맞춤법 교정: {sentence}\",\n",
    "                return_tensors=\"pt\",\n",
    "                max_length=512,\n",
    "                truncation=True,\n",
    "            ).to(\"cpu\")\n",
    "\n",
    "            outputs = model.generate(\n",
    "                inputs[\"input_ids\"], \n",
    "                max_length=512, \n",
    "                num_beams=5,\n",
    "                length_penalty=0.6,\n",
    "                early_stopping=True\n",
    "            )\n",
    "\n",
    "            corrected_sentence = tokenizer.decode(outputs[0], skip_special_tokens=True)\n",
    "            corrected_sentences.append(corrected_sentence)\n",
    "\n",
    "        # 교정된 문장들을 다시 합침\n",
    "        final_text = \" \".join(corrected_sentences)  # 다시 문장 끝에 '。'을 추가\n",
    "        return final_text.strip()\n",
    "\n",
    "    except Exception as e:\n",
    "        print(f\"Error processing text: {text}\")\n",
    "        print(f\"Error message: {str(e)}\")\n",
    "        return text  # 에러 발생시 원본 텍스트 반환\n",
    "\n",
    "# 예측 테스트\n",
    "text = \"안녕하세요. 포항시 오천읍에 거주하는 이강일입니다. 저는 지난 11월 13일 이후로 집에서 나오는 수돗물에서 고약한 냄새가 나기 시작했습니다. 처음에는 아파트 물탱크의 문제가 있는 줄 알고 대수롭지 않게 여겼는데 냄새가 계속 나서 걱정이 돼서 신고합니다. 현재 수돗물에서 흙냄새와 곰팡이 냄새가 나고 그래서 설거지나 세수는 물론 물을 마실 수가 없습니다. 생수로 대체해서 사용하고 있는데 이 문제로 매우 불편을 겪고 있습니다. 포항시 수돗물 원수의 40%를 공급하는 경주 안개 때문에 녹조 현상이 발생했다고 들었고 남조류에서 발생한 지오스민이 냄새를 유발한다고 합니다. 이 문제에 대한 빠른 대응을 부탁드립니다. 감사합니다.\"\n",
    "\n",
    "# 문장 끝 기준으로 처리\n",
    "result = apply_spelling_correction(text)\n",
    "print(\"원래 문장: \", text)\n",
    "print(\"교정 후 문장: \", result)\n"
   ]
  },
  {
   "cell_type": "code",
   "execution_count": 8,
   "metadata": {},
   "outputs": [
    {
     "name": "stdout",
     "output_type": "stream",
     "text": [
      "240\n",
      "364\n"
     ]
    }
   ],
   "source": [
    "print(len(result))\n",
    "print(len(text))"
   ]
  }
 ],
 "metadata": {
  "kernelspec": {
   "display_name": "venv-llm",
   "language": "python",
   "name": "python3"
  },
  "language_info": {
   "codemirror_mode": {
    "name": "ipython",
    "version": 3
   },
   "file_extension": ".py",
   "mimetype": "text/x-python",
   "name": "python",
   "nbconvert_exporter": "python",
   "pygments_lexer": "ipython3",
   "version": "3.8.20"
  }
 },
 "nbformat": 4,
 "nbformat_minor": 2
}
