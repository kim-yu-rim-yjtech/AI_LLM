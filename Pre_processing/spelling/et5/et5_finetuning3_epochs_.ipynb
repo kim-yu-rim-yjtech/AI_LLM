{
 "cells": [
  {
   "cell_type": "markdown",
   "metadata": {},
   "source": [
    "## 데이터 불러오고 나누기"
   ]
  },
  {
   "cell_type": "code",
   "execution_count": null,
   "metadata": {},
   "outputs": [
    {
     "name": "stderr",
     "output_type": "stream",
     "text": [
      "/home/yjtech2/Desktop/yurim/anaconda3/envs/venv-llm/lib/python3.8/site-packages/tqdm/auto.py:21: TqdmWarning: IProgress not found. Please update jupyter and ipywidgets. See https://ipywidgets.readthedocs.io/en/stable/user_install.html\n",
      "  from .autonotebook import tqdm as notebook_tqdm\n"
     ]
    },
    {
     "name": "stdout",
     "output_type": "stream",
     "text": [
      "<class 'pandas.core.frame.DataFrame'>\n",
      "RangeIndex: 19653 entries, 0 to 19652\n",
      "Data columns (total 2 columns):\n",
      " #   Column        Non-Null Count  Dtype \n",
      "---  ------        --------------  ----- \n",
      " 0   err_sentence  19653 non-null  object\n",
      " 1   cor_sentence  19653 non-null  object\n",
      "dtypes: object(2)\n",
      "memory usage: 307.2+ KB\n",
      "None\n"
     ]
    }
   ],
   "source": [
    "import json\n",
    "import pandas as pd\n",
    "from datasets import Dataset\n",
    "\n",
    "def load_data(file_path):\n",
    "    \"\"\"\n",
    "    JSON 데이터를 불러와 Pandas DataFrame으로 변환\n",
    "    \"\"\"\n",
    "    with open(file_path, 'r', encoding='utf-8') as f:\n",
    "        json_data = json.load(f)\n",
    "        \n",
    "    data = []\n",
    "    for item in json_data['data']:\n",
    "        if 'annotation' in item:\n",
    "            annotation = item['annotation']\n",
    "            \n",
    "            if 'err_sentence' in annotation and 'cor_sentence' in annotation:\n",
    "                data.append({\n",
    "                    'err_sentence': annotation['err_sentence'],\n",
    "                    'cor_sentence': annotation['cor_sentence']\n",
    "                })\n",
    "                \n",
    "    df = pd.DataFrame(data)\n",
    "    print(df.info())\n",
    "    # None 값을 빈 문자열로 대체\n",
    "    df = df.fillna('')\n",
    "    return df\n",
    "\n",
    "# JSON 파일 경로\n",
    "file_path = \"/home/yjtech2/Desktop/yurim/LLM/Data/spelling/train/combined_data2.json\"\n",
    "\n",
    "# 데이터 불러오기\n",
    "df = load_data(file_path)\n",
    "\n",
    "# 데이터셋 변환 및 분할\n",
    "data_dict = df.to_dict(orient='list')\n",
    "train_dataset = Dataset.from_dict(data_dict)\n",
    "valid_dataset= Dataset.from_dict({'err_sentence': [], 'cor_sentence': []}) "
   ]
  },
  {
   "cell_type": "code",
   "execution_count": 2,
   "metadata": {},
   "outputs": [],
   "source": [
    "# 데이터 길이 확인\n",
    "for sample in valid_dataset:\n",
    "    print(f\"err_sentence length: {len(sample['err_sentence'])}, cor_sentence length: {len(sample['cor_sentence'])}\")\n"
   ]
  },
  {
   "cell_type": "markdown",
   "metadata": {},
   "source": [
    "## 모델 학습"
   ]
  },
  {
   "cell_type": "code",
   "execution_count": 3,
   "metadata": {},
   "outputs": [
    {
     "name": "stderr",
     "output_type": "stream",
     "text": [
      "2024-11-21 17:49:51.775476: I tensorflow/core/util/port.cc:110] oneDNN custom operations are on. You may see slightly different numerical results due to floating-point round-off errors from different computation orders. To turn them off, set the environment variable `TF_ENABLE_ONEDNN_OPTS=0`.\n",
      "2024-11-21 17:49:51.801248: I tensorflow/core/platform/cpu_feature_guard.cc:182] This TensorFlow binary is optimized to use available CPU instructions in performance-critical operations.\n",
      "To enable the following instructions: AVX2 AVX512F AVX512_VNNI AVX512_BF16 FMA, in other operations, rebuild TensorFlow with the appropriate compiler flags.\n",
      "2024-11-21 17:49:52.256134: W tensorflow/compiler/tf2tensorrt/utils/py_utils.cc:38] TF-TRT Warning: Could not find TensorRT\n"
     ]
    }
   ],
   "source": [
    "from transformers import T5ForConditionalGeneration, T5Tokenizer, Trainer, TrainingArguments\n",
    "from transformers import get_scheduler\n",
    "from evaluate import load\n",
    "import numpy as np\n",
    "import torch\n",
    "from torch.optim import AdamW\n",
    "from typing import Dict\n",
    "from tqdm import tqdm\n",
    "import os\n",
    "os.environ[\"WANDB_DISABLED\"] = \"true\"\n",
    "\n",
    "from transformers import DataCollatorForSeq2Seq\n",
    "from torch.cuda.amp import GradScaler, autocast\n",
    "\n",
    "import json\n"
   ]
  },
  {
   "cell_type": "code",
   "execution_count": 4,
   "metadata": {},
   "outputs": [],
   "source": [
    "import os\n",
    "import torch\n",
    "from tqdm import tqdm\n",
    "from typing import Dict\n",
    "from transformers import (\n",
    "    T5Tokenizer,\n",
    "    T5ForConditionalGeneration,\n",
    "    AdamW,\n",
    "    DataCollatorForSeq2Seq,\n",
    ")\n",
    "\n",
    "\n",
    "class CustomT5Trainer:\n",
    "    def __init__(self, model_name: str, **kwargs):\n",
    "        self.device = \"cuda\" if torch.cuda.is_available() else \"cpu\"\n",
    "        self.tokenizer = T5Tokenizer.from_pretrained(model_name)\n",
    "        self.model = T5ForConditionalGeneration.from_pretrained(model_name).to(self.device)\n",
    "        self.optimizer = AdamW(self.model.parameters(), lr=kwargs.get(\"learning_rate\", 2e-5))\n",
    "        self.max_length = kwargs.get(\"max_length\", 128)\n",
    "        self.training_args = kwargs\n",
    "        self.save_dir = kwargs.get(\"save_dir\", \"/home/yjtech2/Desktop/yurim/LLM/Pre_processing/spelling/et5/best_model3\")\n",
    "        \n",
    "        # 저장 경로 설정\n",
    "        self.best_model_path = os.path.join(self.save_dir, \"pytorch_model.bin\")\n",
    "        self.tokenizer_path = self.save_dir\n",
    "\n",
    "        # 디렉터리 생성\n",
    "        os.makedirs(self.save_dir, exist_ok=True)\n",
    "\n",
    "    def save_model_and_tokenizer(self):\n",
    "        \"\"\"모델과 토크나이저 저장\"\"\"\n",
    "        # 모델과 구성 저장\n",
    "        self.model.save_pretrained(self.save_dir)\n",
    "        print(f\"Model and config saved at {self.save_dir}\")\n",
    "\n",
    "        # 토크나이저 저장\n",
    "        self.tokenizer.save_pretrained(self.save_dir)\n",
    "        print(f\"Tokenizer saved at {self.save_dir}\")\n",
    "\n",
    "\n",
    "    def train(self, train_dataset, valid_dataset=None):\n",
    "        # 데이터 전처리\n",
    "        tqdm.pandas(desc=\"Processing spacing correction\")\n",
    "        train_dataset = train_dataset.map(\n",
    "            self.preprocess_data,\n",
    "            batched=True,\n",
    "            remove_columns=train_dataset.column_names,\n",
    "        )\n",
    "\n",
    "        # DataCollatorForSeq2Seq로 배치 내 샘플 크기 맞춤\n",
    "        data_collator = DataCollatorForSeq2Seq(\n",
    "            tokenizer=self.tokenizer,\n",
    "            model=self.model,\n",
    "            padding=\"longest\",\n",
    "            return_tensors=\"pt\"\n",
    "        )\n",
    "\n",
    "        # DataLoader 준비\n",
    "        train_dataloader = torch.utils.data.DataLoader(\n",
    "            train_dataset,\n",
    "            batch_size=self.training_args[\"batch_size\"],\n",
    "            shuffle=True,\n",
    "            collate_fn=data_collator\n",
    "        )\n",
    "\n",
    "        self.model.train()\n",
    "        for epoch in range(self.training_args[\"num_epochs\"]):\n",
    "            epoch_loss = 0\n",
    "            for batch in train_dataloader:\n",
    "                input_ids = batch[\"input_ids\"].to(self.device)\n",
    "                attention_mask = batch[\"attention_mask\"].to(self.device)\n",
    "                labels = batch[\"labels\"].to(self.device)\n",
    "\n",
    "                outputs = self.model(\n",
    "                    input_ids=input_ids,\n",
    "                    attention_mask=attention_mask,\n",
    "                    labels=labels,\n",
    "                )\n",
    "                loss = outputs.loss\n",
    "                loss.backward()\n",
    "\n",
    "                self.optimizer.step()\n",
    "                self.optimizer.zero_grad()\n",
    "\n",
    "                epoch_loss += loss.item()\n",
    "\n",
    "            print(f\"Epoch {epoch + 1} completed. Loss: {epoch_loss:.4f}\")\n",
    "\n",
    "        # 모델과 토크나이저 저장\n",
    "        self.save_model_and_tokenizer()\n",
    "\n",
    "    def preprocess_data(self, examples: Dict) -> Dict:\n",
    "        \"\"\"데이터 전처리 함수\"\"\"\n",
    "        inputs = [f\"맞춤법 교정: {self._normalize_text(text)}\" for text in examples[\"err_sentence\"]]\n",
    "        model_inputs = self.tokenizer(\n",
    "            inputs,\n",
    "            max_length=self.max_length,\n",
    "            padding=\"longest\",\n",
    "            truncation=True,\n",
    "            return_tensors=\"pt\",\n",
    "        ).to(self.device)\n",
    "\n",
    "        with self.tokenizer.as_target_tokenizer():\n",
    "            labels = self.tokenizer(\n",
    "                examples[\"cor_sentence\"],\n",
    "                max_length=self.max_length,\n",
    "                padding=\"longest\",\n",
    "                truncation=True,\n",
    "                return_tensors=\"pt\",\n",
    "            ).to(self.device)\n",
    "        model_inputs[\"labels\"] = labels[\"input_ids\"]\n",
    "        return model_inputs\n",
    "\n",
    "    def predict(self, text: str) -> str:\n",
    "        \"\"\"모델 추론\"\"\"\n",
    "        inputs = self.tokenizer(\n",
    "            f\"맞춤법 교정: {self._normalize_text(text)}\",\n",
    "            return_tensors=\"pt\",\n",
    "            max_length=self.max_length,\n",
    "            truncation=True,\n",
    "        ).to(self.device)\n",
    "\n",
    "        outputs = self.model.generate(\n",
    "            inputs[\"input_ids\"], max_length=self.max_length, num_beams=5\n",
    "        )\n",
    "        return self.tokenizer.decode(outputs[0], skip_special_tokens=True)\n",
    "\n",
    "    def _normalize_text(self, text: str) -> str:\n",
    "        return text.strip()\n"
   ]
  },
  {
   "cell_type": "markdown",
   "metadata": {},
   "source": [
    "## Setting parameters\n",
    "max_len = 64 # 해당 길이를 초과하는 단어에 대해선 bert가 학습하지 않음\n",
    "batch_size = 64\n",
    "warmup_ratio = 0.1\n",
    "num_epochs = 5\n",
    "max_grad_norm = 1\n",
    "log_interval = 200\n",
    "learning_rate = 5e-5"
   ]
  },
  {
   "cell_type": "code",
   "execution_count": null,
   "metadata": {},
   "outputs": [
    {
     "name": "stderr",
     "output_type": "stream",
     "text": [
      "You are using the default legacy behaviour of the <class 'transformers.models.t5.tokenization_t5.T5Tokenizer'>. This is expected, and simply means that the `legacy` (previous) behavior will be used so nothing changes for you. If you want to use the new behaviour, set `legacy=False`. This should only be set if you understand what it means, and thoroughly read the reason why this was added as explained in https://github.com/huggingface/transformers/pull/24565\n",
      "/home/yjtech2/Desktop/yurim/anaconda3/envs/venv-llm/lib/python3.8/site-packages/transformers/optimization.py:591: FutureWarning: This implementation of AdamW is deprecated and will be removed in a future version. Use the PyTorch implementation torch.optim.AdamW instead, or set `no_deprecation_warning=True` to disable this warning\n",
      "  warnings.warn(\n",
      "Map:   0%|          | 0/19653 [00:00<?, ? examples/s]/home/yjtech2/Desktop/yurim/anaconda3/envs/venv-llm/lib/python3.8/site-packages/transformers/tokenization_utils_base.py:4114: UserWarning: `as_target_tokenizer` is deprecated and will be removed in v5 of Transformers. You can tokenize your labels by using the argument `text_target` of the regular `__call__` method (either in the same call as your input texts if you use the same keyword arguments, or in a separate call.\n",
      "  warnings.warn(\n",
      "Map: 100%|██████████| 19653/19653 [00:01<00:00, 13258.00 examples/s]\n",
      "Passing a tuple of `past_key_values` is deprecated and will be removed in Transformers v4.48.0. You should pass an instance of `EncoderDecoderCache` instead, e.g. `past_key_values=EncoderDecoderCache.from_legacy_cache(past_key_values)`.\n"
     ]
    },
    {
     "name": "stdout",
     "output_type": "stream",
     "text": [
      "Epoch 1 completed. Loss: 78.1563\n",
      "Epoch 2 completed. Loss: 36.4030\n",
      "Epoch 3 completed. Loss: 21.8447\n",
      "Epoch 4 completed. Loss: 13.7362\n",
      "Epoch 5 completed. Loss: 9.1200\n",
      "Epoch 6 completed. Loss: 6.0973\n",
      "Epoch 7 completed. Loss: 4.3000\n",
      "Epoch 8 completed. Loss: 3.1062\n",
      "Epoch 9 completed. Loss: 2.4791\n",
      "Epoch 10 completed. Loss: 1.9674\n",
      "Model and config saved at /home/yjtech2/Desktop/yurim/LLM/Pre_processing/spelling/et5/best_model3\n",
      "Tokenizer saved at /home/yjtech2/Desktop/yurim/LLM/Pre_processing/spelling/et5/best_model3\n"
     ]
    }
   ],
   "source": [
    "trainer = CustomT5Trainer(\n",
    "    model_name=\"j5ng/et5-typos-corrector\",\n",
    "    max_length=128,\n",
    "    learning_rate=2e-5,\n",
    "    batch_size=32,\n",
    "    num_epochs=10,\n",
    "    gradient_accumulation_steps=8\n",
    ")\n",
    "\n",
    "if __name__ == \"__main__\":\n",
    "    torch.cuda.empty_cache()  # GPU 메모리 초기화\n",
    "    trainer.train(train_dataset, valid_dataset)\n"
   ]
  },
  {
   "cell_type": "markdown",
   "metadata": {},
   "source": [
    "## 테스트"
   ]
  },
  {
   "cell_type": "code",
   "execution_count": 6,
   "metadata": {},
   "outputs": [
    {
     "name": "stdout",
     "output_type": "stream",
     "text": [
      "Model and tokenizer loaded successfully.\n"
     ]
    }
   ],
   "source": [
    "from transformers import T5ForConditionalGeneration, T5Tokenizer\n",
    "\n",
    "model = T5ForConditionalGeneration.from_pretrained(\"/home/yjtech2/Desktop/yurim/LLM/Pre_processing/spelling/et5/best_model3\")\n",
    "tokenizer = T5Tokenizer.from_pretrained(\"/home/yjtech2/Desktop/yurim/LLM/Pre_processing/spelling/et5/best_model3\")\n",
    "print(\"Model and tokenizer loaded successfully.\")"
   ]
  },
  {
   "cell_type": "code",
   "execution_count": null,
   "metadata": {},
   "outputs": [
    {
     "name": "stdout",
     "output_type": "stream",
     "text": [
      "원래 문장:  음씩물 쓰래기냄세가 확 난다.\n",
      "교정 후 문장:  조금씩 물 쓰레기 냄새가 확 난다.\n"
     ]
    },
    {
     "ename": "",
     "evalue": "",
     "output_type": "error",
     "traceback": [
      "\u001b[1;31mThe Kernel crashed while executing code in the current cell or a previous cell. \n",
      "\u001b[1;31mPlease review the code in the cell(s) to identify a possible cause of the failure. \n",
      "\u001b[1;31mClick <a href='https://aka.ms/vscodeJupyterKernelCrash'>here</a> for more info. \n",
      "\u001b[1;31mView Jupyter <a href='command:jupyter.viewOutput'>log</a> for further details."
     ]
    }
   ],
   "source": [
    "from transformers import T5Tokenizer, T5ForConditionalGeneration\n",
    "\n",
    "# 저장된 모델 경로\n",
    "saved_model_path = \"/home/yjtech2/Desktop/yurim/LLM/Pre_processing/spelling/et5/best_model3\"\n",
    "\n",
    "# 모델과 토크나이저 불러오기\n",
    "tokenizer = T5Tokenizer.from_pretrained(saved_model_path, local_files_only=True)\n",
    "model = T5ForConditionalGeneration.from_pretrained(saved_model_path, local_files_only=True).to('cpu')\n",
    "\n",
    "# 예측 테스트\n",
    "text = \"음씩물 쓰래기냄세가 확 난다.\"\n",
    "inputs = tokenizer(\n",
    "    f\"맞춤법 교정: {text}\",\n",
    "    return_tensors=\"pt\",\n",
    "    max_length=128,\n",
    "    truncation=True\n",
    ").to(\"cpu\")\n",
    "\n",
    "outputs = model.generate(\n",
    "    inputs[\"input_ids\"],\n",
    "    max_length=128,\n",
    "    num_beams=5,\n",
    "    length_penalty=0.6,\n",
    "    early_stopping=True\n",
    ")\n",
    "\n",
    "result = tokenizer.decode(outputs[0], skip_special_tokens=True)\n",
    "print(\"원래 문장: \", text)\n",
    "print(\"교정 후 문장: \", result)"
   ]
  }
 ],
 "metadata": {
  "kernelspec": {
   "display_name": "venv-llm",
   "language": "python",
   "name": "python3"
  },
  "language_info": {
   "codemirror_mode": {
    "name": "ipython",
    "version": 3
   },
   "file_extension": ".py",
   "mimetype": "text/x-python",
   "name": "python",
   "nbconvert_exporter": "python",
   "pygments_lexer": "ipython3",
   "version": "3.8.20"
  }
 },
 "nbformat": 4,
 "nbformat_minor": 2
}
