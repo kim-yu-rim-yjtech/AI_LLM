version https://git-lfs.github.com/spec/v1
oid sha256:599bdfa2a37364596da165116d067face7cd0186385d8b633e17dfeef114808a
size 94036
