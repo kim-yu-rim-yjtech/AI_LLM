version https://git-lfs.github.com/spec/v1
oid sha256:62e98989c96565d36d6676af5710df164c6ae897684cee1638589d1e5ae571e9
size 17309
