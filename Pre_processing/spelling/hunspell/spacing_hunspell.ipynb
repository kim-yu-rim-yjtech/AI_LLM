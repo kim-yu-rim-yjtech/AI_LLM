version https://git-lfs.github.com/spec/v1
oid sha256:c2778b8e4d985792098b0d29ae2186de3d44afae2d382212fe86681c38dad958
size 103917
