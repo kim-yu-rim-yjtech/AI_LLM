version https://git-lfs.github.com/spec/v1
oid sha256:04d0c600899ca6dc2fec037a1e792fb9ba6d49d803970a57d54e06688553894c
size 14831
