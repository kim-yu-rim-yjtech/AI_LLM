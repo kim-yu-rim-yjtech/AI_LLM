version https://git-lfs.github.com/spec/v1
oid sha256:c66d8960e180e409082935cd99b0b34b9b980559bd72a0ceb6c59507e2ff429d
size 61240
