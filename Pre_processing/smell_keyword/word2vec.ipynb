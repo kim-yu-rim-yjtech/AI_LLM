version https://git-lfs.github.com/spec/v1
oid sha256:2860454a2e445f26acd25606fb84d7c5ae127e24f6acd0faa9e68fe734cf7e14
size 47146
