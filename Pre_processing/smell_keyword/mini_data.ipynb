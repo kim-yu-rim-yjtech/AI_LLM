version https://git-lfs.github.com/spec/v1
oid sha256:21e2ada61f1ead3cfdbef4bd223bd9d3efe613519a2f50b9a14ff6dc177f8a5e
size 45533
