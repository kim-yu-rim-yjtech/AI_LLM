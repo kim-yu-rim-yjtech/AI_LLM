version https://git-lfs.github.com/spec/v1
oid sha256:06948fc4d83976779cfc2f28d088d8fc0ccb241051ca5c6f1eb0066601c43714
size 239712
