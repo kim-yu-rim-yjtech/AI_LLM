version https://git-lfs.github.com/spec/v1
oid sha256:fab90571acbd41e00823cf8ac96d9427546558234cbf2a1f4203bb02245c45e4
size 17575
