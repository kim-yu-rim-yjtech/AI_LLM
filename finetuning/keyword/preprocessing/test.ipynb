version https://git-lfs.github.com/spec/v1
oid sha256:26af97656f7e4b9f08e9560893cb3bcd31c057e012a4e9ca6956a2c2d10288b2
size 6777
